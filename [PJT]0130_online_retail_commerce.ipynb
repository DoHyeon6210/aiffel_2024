{
  "cells": [
    {
      "cell_type": "markdown",
      "id": "e291d328",
      "metadata": {
        "id": "e291d328"
      },
      "source": [
        "## 라이브러리 로드"
      ]
    },
    {
      "cell_type": "code",
      "execution_count": 1,
      "id": "e20112ed",
      "metadata": {
        "id": "e20112ed"
      },
      "outputs": [],
      "source": [
        "import pandas as pd\n",
        "import numpy as np\n",
        "import matplotlib.pyplot as plt\n",
        "import seaborn as sns"
      ]
    },
    {
      "cell_type": "code",
      "execution_count": 2,
      "id": "4f082eeb",
      "metadata": {
        "id": "4f082eeb",
        "colab": {
          "base_uri": "https://localhost:8080/"
        },
        "outputId": "2ef041de-3907-43fe-d2e3-e3bffe8e212e"
      },
      "outputs": [
        {
          "output_type": "stream",
          "name": "stdout",
          "text": [
            "Collecting koreanize-matplotlib\n",
            "  Downloading koreanize_matplotlib-0.1.1-py3-none-any.whl (7.9 MB)\n",
            "\u001b[2K     \u001b[90m━━━━━━━━━━━━━━━━━━━━━━━━━━━━━━━━━━━━━━━━\u001b[0m \u001b[32m7.9/7.9 MB\u001b[0m \u001b[31m10.8 MB/s\u001b[0m eta \u001b[36m0:00:00\u001b[0m\n",
            "\u001b[?25hRequirement already satisfied: matplotlib in /usr/local/lib/python3.10/dist-packages (from koreanize-matplotlib) (3.7.1)\n",
            "Requirement already satisfied: contourpy>=1.0.1 in /usr/local/lib/python3.10/dist-packages (from matplotlib->koreanize-matplotlib) (1.2.0)\n",
            "Requirement already satisfied: cycler>=0.10 in /usr/local/lib/python3.10/dist-packages (from matplotlib->koreanize-matplotlib) (0.12.1)\n",
            "Requirement already satisfied: fonttools>=4.22.0 in /usr/local/lib/python3.10/dist-packages (from matplotlib->koreanize-matplotlib) (4.47.2)\n",
            "Requirement already satisfied: kiwisolver>=1.0.1 in /usr/local/lib/python3.10/dist-packages (from matplotlib->koreanize-matplotlib) (1.4.5)\n",
            "Requirement already satisfied: numpy>=1.20 in /usr/local/lib/python3.10/dist-packages (from matplotlib->koreanize-matplotlib) (1.23.5)\n",
            "Requirement already satisfied: packaging>=20.0 in /usr/local/lib/python3.10/dist-packages (from matplotlib->koreanize-matplotlib) (23.2)\n",
            "Requirement already satisfied: pillow>=6.2.0 in /usr/local/lib/python3.10/dist-packages (from matplotlib->koreanize-matplotlib) (9.4.0)\n",
            "Requirement already satisfied: pyparsing>=2.3.1 in /usr/local/lib/python3.10/dist-packages (from matplotlib->koreanize-matplotlib) (3.1.1)\n",
            "Requirement already satisfied: python-dateutil>=2.7 in /usr/local/lib/python3.10/dist-packages (from matplotlib->koreanize-matplotlib) (2.8.2)\n",
            "Requirement already satisfied: six>=1.5 in /usr/local/lib/python3.10/dist-packages (from python-dateutil>=2.7->matplotlib->koreanize-matplotlib) (1.16.0)\n",
            "Installing collected packages: koreanize-matplotlib\n",
            "Successfully installed koreanize-matplotlib-0.1.1\n"
          ]
        }
      ],
      "source": [
        "!pip install koreanize-matplotlib\n",
        "import koreanize_matplotlib\n",
        "\n",
        "%config InlineBackend.figure_format = 'retina'"
      ]
    },
    {
      "cell_type": "markdown",
      "id": "7ed3b0b0",
      "metadata": {
        "id": "7ed3b0b0"
      },
      "source": [
        "## 데이터 로드\n",
        "* parquet 형식 로드를 위한 라이브러리가 설치되어 있어야 합니다."
      ]
    },
    {
      "cell_type": "code",
      "execution_count": 3,
      "id": "c97514e9",
      "metadata": {
        "id": "c97514e9",
        "colab": {
          "base_uri": "https://localhost:8080/"
        },
        "outputId": "71422e0d-1e52-4e44-f092-90eb2c8b4ae0"
      },
      "outputs": [
        {
          "output_type": "execute_result",
          "data": {
            "text/plain": [
              "(541909, 8)"
            ]
          },
          "metadata": {},
          "execution_count": 3
        }
      ],
      "source": [
        "df = pd.read_parquet(\"https://github.com/corazzon/KaggleStruggle/raw/master/online-retail/data/online_retail.gzip\")\n",
        "df.shape"
      ]
    },
    {
      "cell_type": "code",
      "execution_count": 4,
      "id": "d15eac16",
      "metadata": {
        "id": "d15eac16",
        "colab": {
          "base_uri": "https://localhost:8080/",
          "height": 504
        },
        "outputId": "2e662695-1513-4941-a864-9fefab0f24f8"
      },
      "outputs": [
        {
          "output_type": "execute_result",
          "data": {
            "text/plain": [
              "  InvoiceNo StockCode                          Description  Quantity  \\\n",
              "0    536365    85123A   WHITE HANGING HEART T-LIGHT HOLDER         6   \n",
              "1    536365     71053                  WHITE METAL LANTERN         6   \n",
              "2    536365    84406B       CREAM CUPID HEARTS COAT HANGER         8   \n",
              "3    536365    84029G  KNITTED UNION FLAG HOT WATER BOTTLE         6   \n",
              "4    536365    84029E       RED WOOLLY HOTTIE WHITE HEART.         6   \n",
              "\n",
              "           InvoiceDate  UnitPrice  CustomerID         Country  TotalPrice  \n",
              "0  2010-12-01 08:26:00       2.55     17850.0  United Kingdom       15.30  \n",
              "1  2010-12-01 08:26:00       3.39     17850.0  United Kingdom       20.34  \n",
              "2  2010-12-01 08:26:00       2.75     17850.0  United Kingdom       22.00  \n",
              "3  2010-12-01 08:26:00       3.39     17850.0  United Kingdom       20.34  \n",
              "4  2010-12-01 08:26:00       3.39     17850.0  United Kingdom       20.34  "
            ],
            "text/html": [
              "\n",
              "  <div id=\"df-3d7d0cfe-1432-46f6-9f41-1b527f3d1de9\" class=\"colab-df-container\">\n",
              "    <div>\n",
              "<style scoped>\n",
              "    .dataframe tbody tr th:only-of-type {\n",
              "        vertical-align: middle;\n",
              "    }\n",
              "\n",
              "    .dataframe tbody tr th {\n",
              "        vertical-align: top;\n",
              "    }\n",
              "\n",
              "    .dataframe thead th {\n",
              "        text-align: right;\n",
              "    }\n",
              "</style>\n",
              "<table border=\"1\" class=\"dataframe\">\n",
              "  <thead>\n",
              "    <tr style=\"text-align: right;\">\n",
              "      <th></th>\n",
              "      <th>InvoiceNo</th>\n",
              "      <th>StockCode</th>\n",
              "      <th>Description</th>\n",
              "      <th>Quantity</th>\n",
              "      <th>InvoiceDate</th>\n",
              "      <th>UnitPrice</th>\n",
              "      <th>CustomerID</th>\n",
              "      <th>Country</th>\n",
              "      <th>TotalPrice</th>\n",
              "    </tr>\n",
              "  </thead>\n",
              "  <tbody>\n",
              "    <tr>\n",
              "      <th>0</th>\n",
              "      <td>536365</td>\n",
              "      <td>85123A</td>\n",
              "      <td>WHITE HANGING HEART T-LIGHT HOLDER</td>\n",
              "      <td>6</td>\n",
              "      <td>2010-12-01 08:26:00</td>\n",
              "      <td>2.55</td>\n",
              "      <td>17850.0</td>\n",
              "      <td>United Kingdom</td>\n",
              "      <td>15.30</td>\n",
              "    </tr>\n",
              "    <tr>\n",
              "      <th>1</th>\n",
              "      <td>536365</td>\n",
              "      <td>71053</td>\n",
              "      <td>WHITE METAL LANTERN</td>\n",
              "      <td>6</td>\n",
              "      <td>2010-12-01 08:26:00</td>\n",
              "      <td>3.39</td>\n",
              "      <td>17850.0</td>\n",
              "      <td>United Kingdom</td>\n",
              "      <td>20.34</td>\n",
              "    </tr>\n",
              "    <tr>\n",
              "      <th>2</th>\n",
              "      <td>536365</td>\n",
              "      <td>84406B</td>\n",
              "      <td>CREAM CUPID HEARTS COAT HANGER</td>\n",
              "      <td>8</td>\n",
              "      <td>2010-12-01 08:26:00</td>\n",
              "      <td>2.75</td>\n",
              "      <td>17850.0</td>\n",
              "      <td>United Kingdom</td>\n",
              "      <td>22.00</td>\n",
              "    </tr>\n",
              "    <tr>\n",
              "      <th>3</th>\n",
              "      <td>536365</td>\n",
              "      <td>84029G</td>\n",
              "      <td>KNITTED UNION FLAG HOT WATER BOTTLE</td>\n",
              "      <td>6</td>\n",
              "      <td>2010-12-01 08:26:00</td>\n",
              "      <td>3.39</td>\n",
              "      <td>17850.0</td>\n",
              "      <td>United Kingdom</td>\n",
              "      <td>20.34</td>\n",
              "    </tr>\n",
              "    <tr>\n",
              "      <th>4</th>\n",
              "      <td>536365</td>\n",
              "      <td>84029E</td>\n",
              "      <td>RED WOOLLY HOTTIE WHITE HEART.</td>\n",
              "      <td>6</td>\n",
              "      <td>2010-12-01 08:26:00</td>\n",
              "      <td>3.39</td>\n",
              "      <td>17850.0</td>\n",
              "      <td>United Kingdom</td>\n",
              "      <td>20.34</td>\n",
              "    </tr>\n",
              "  </tbody>\n",
              "</table>\n",
              "</div>\n",
              "    <div class=\"colab-df-buttons\">\n",
              "\n",
              "  <div class=\"colab-df-container\">\n",
              "    <button class=\"colab-df-convert\" onclick=\"convertToInteractive('df-3d7d0cfe-1432-46f6-9f41-1b527f3d1de9')\"\n",
              "            title=\"Convert this dataframe to an interactive table.\"\n",
              "            style=\"display:none;\">\n",
              "\n",
              "  <svg xmlns=\"http://www.w3.org/2000/svg\" height=\"24px\" viewBox=\"0 -960 960 960\">\n",
              "    <path d=\"M120-120v-720h720v720H120Zm60-500h600v-160H180v160Zm220 220h160v-160H400v160Zm0 220h160v-160H400v160ZM180-400h160v-160H180v160Zm440 0h160v-160H620v160ZM180-180h160v-160H180v160Zm440 0h160v-160H620v160Z\"/>\n",
              "  </svg>\n",
              "    </button>\n",
              "\n",
              "  <style>\n",
              "    .colab-df-container {\n",
              "      display:flex;\n",
              "      gap: 12px;\n",
              "    }\n",
              "\n",
              "    .colab-df-convert {\n",
              "      background-color: #E8F0FE;\n",
              "      border: none;\n",
              "      border-radius: 50%;\n",
              "      cursor: pointer;\n",
              "      display: none;\n",
              "      fill: #1967D2;\n",
              "      height: 32px;\n",
              "      padding: 0 0 0 0;\n",
              "      width: 32px;\n",
              "    }\n",
              "\n",
              "    .colab-df-convert:hover {\n",
              "      background-color: #E2EBFA;\n",
              "      box-shadow: 0px 1px 2px rgba(60, 64, 67, 0.3), 0px 1px 3px 1px rgba(60, 64, 67, 0.15);\n",
              "      fill: #174EA6;\n",
              "    }\n",
              "\n",
              "    .colab-df-buttons div {\n",
              "      margin-bottom: 4px;\n",
              "    }\n",
              "\n",
              "    [theme=dark] .colab-df-convert {\n",
              "      background-color: #3B4455;\n",
              "      fill: #D2E3FC;\n",
              "    }\n",
              "\n",
              "    [theme=dark] .colab-df-convert:hover {\n",
              "      background-color: #434B5C;\n",
              "      box-shadow: 0px 1px 3px 1px rgba(0, 0, 0, 0.15);\n",
              "      filter: drop-shadow(0px 1px 2px rgba(0, 0, 0, 0.3));\n",
              "      fill: #FFFFFF;\n",
              "    }\n",
              "  </style>\n",
              "\n",
              "    <script>\n",
              "      const buttonEl =\n",
              "        document.querySelector('#df-3d7d0cfe-1432-46f6-9f41-1b527f3d1de9 button.colab-df-convert');\n",
              "      buttonEl.style.display =\n",
              "        google.colab.kernel.accessAllowed ? 'block' : 'none';\n",
              "\n",
              "      async function convertToInteractive(key) {\n",
              "        const element = document.querySelector('#df-3d7d0cfe-1432-46f6-9f41-1b527f3d1de9');\n",
              "        const dataTable =\n",
              "          await google.colab.kernel.invokeFunction('convertToInteractive',\n",
              "                                                    [key], {});\n",
              "        if (!dataTable) return;\n",
              "\n",
              "        const docLinkHtml = 'Like what you see? Visit the ' +\n",
              "          '<a target=\"_blank\" href=https://colab.research.google.com/notebooks/data_table.ipynb>data table notebook</a>'\n",
              "          + ' to learn more about interactive tables.';\n",
              "        element.innerHTML = '';\n",
              "        dataTable['output_type'] = 'display_data';\n",
              "        await google.colab.output.renderOutput(dataTable, element);\n",
              "        const docLink = document.createElement('div');\n",
              "        docLink.innerHTML = docLinkHtml;\n",
              "        element.appendChild(docLink);\n",
              "      }\n",
              "    </script>\n",
              "  </div>\n",
              "\n",
              "\n",
              "<div id=\"df-7246cd02-fe5b-44a8-92c5-f62705260e24\">\n",
              "  <button class=\"colab-df-quickchart\" onclick=\"quickchart('df-7246cd02-fe5b-44a8-92c5-f62705260e24')\"\n",
              "            title=\"Suggest charts\"\n",
              "            style=\"display:none;\">\n",
              "\n",
              "<svg xmlns=\"http://www.w3.org/2000/svg\" height=\"24px\"viewBox=\"0 0 24 24\"\n",
              "     width=\"24px\">\n",
              "    <g>\n",
              "        <path d=\"M19 3H5c-1.1 0-2 .9-2 2v14c0 1.1.9 2 2 2h14c1.1 0 2-.9 2-2V5c0-1.1-.9-2-2-2zM9 17H7v-7h2v7zm4 0h-2V7h2v10zm4 0h-2v-4h2v4z\"/>\n",
              "    </g>\n",
              "</svg>\n",
              "  </button>\n",
              "\n",
              "<style>\n",
              "  .colab-df-quickchart {\n",
              "      --bg-color: #E8F0FE;\n",
              "      --fill-color: #1967D2;\n",
              "      --hover-bg-color: #E2EBFA;\n",
              "      --hover-fill-color: #174EA6;\n",
              "      --disabled-fill-color: #AAA;\n",
              "      --disabled-bg-color: #DDD;\n",
              "  }\n",
              "\n",
              "  [theme=dark] .colab-df-quickchart {\n",
              "      --bg-color: #3B4455;\n",
              "      --fill-color: #D2E3FC;\n",
              "      --hover-bg-color: #434B5C;\n",
              "      --hover-fill-color: #FFFFFF;\n",
              "      --disabled-bg-color: #3B4455;\n",
              "      --disabled-fill-color: #666;\n",
              "  }\n",
              "\n",
              "  .colab-df-quickchart {\n",
              "    background-color: var(--bg-color);\n",
              "    border: none;\n",
              "    border-radius: 50%;\n",
              "    cursor: pointer;\n",
              "    display: none;\n",
              "    fill: var(--fill-color);\n",
              "    height: 32px;\n",
              "    padding: 0;\n",
              "    width: 32px;\n",
              "  }\n",
              "\n",
              "  .colab-df-quickchart:hover {\n",
              "    background-color: var(--hover-bg-color);\n",
              "    box-shadow: 0 1px 2px rgba(60, 64, 67, 0.3), 0 1px 3px 1px rgba(60, 64, 67, 0.15);\n",
              "    fill: var(--button-hover-fill-color);\n",
              "  }\n",
              "\n",
              "  .colab-df-quickchart-complete:disabled,\n",
              "  .colab-df-quickchart-complete:disabled:hover {\n",
              "    background-color: var(--disabled-bg-color);\n",
              "    fill: var(--disabled-fill-color);\n",
              "    box-shadow: none;\n",
              "  }\n",
              "\n",
              "  .colab-df-spinner {\n",
              "    border: 2px solid var(--fill-color);\n",
              "    border-color: transparent;\n",
              "    border-bottom-color: var(--fill-color);\n",
              "    animation:\n",
              "      spin 1s steps(1) infinite;\n",
              "  }\n",
              "\n",
              "  @keyframes spin {\n",
              "    0% {\n",
              "      border-color: transparent;\n",
              "      border-bottom-color: var(--fill-color);\n",
              "      border-left-color: var(--fill-color);\n",
              "    }\n",
              "    20% {\n",
              "      border-color: transparent;\n",
              "      border-left-color: var(--fill-color);\n",
              "      border-top-color: var(--fill-color);\n",
              "    }\n",
              "    30% {\n",
              "      border-color: transparent;\n",
              "      border-left-color: var(--fill-color);\n",
              "      border-top-color: var(--fill-color);\n",
              "      border-right-color: var(--fill-color);\n",
              "    }\n",
              "    40% {\n",
              "      border-color: transparent;\n",
              "      border-right-color: var(--fill-color);\n",
              "      border-top-color: var(--fill-color);\n",
              "    }\n",
              "    60% {\n",
              "      border-color: transparent;\n",
              "      border-right-color: var(--fill-color);\n",
              "    }\n",
              "    80% {\n",
              "      border-color: transparent;\n",
              "      border-right-color: var(--fill-color);\n",
              "      border-bottom-color: var(--fill-color);\n",
              "    }\n",
              "    90% {\n",
              "      border-color: transparent;\n",
              "      border-bottom-color: var(--fill-color);\n",
              "    }\n",
              "  }\n",
              "</style>\n",
              "\n",
              "  <script>\n",
              "    async function quickchart(key) {\n",
              "      const quickchartButtonEl =\n",
              "        document.querySelector('#' + key + ' button');\n",
              "      quickchartButtonEl.disabled = true;  // To prevent multiple clicks.\n",
              "      quickchartButtonEl.classList.add('colab-df-spinner');\n",
              "      try {\n",
              "        const charts = await google.colab.kernel.invokeFunction(\n",
              "            'suggestCharts', [key], {});\n",
              "      } catch (error) {\n",
              "        console.error('Error during call to suggestCharts:', error);\n",
              "      }\n",
              "      quickchartButtonEl.classList.remove('colab-df-spinner');\n",
              "      quickchartButtonEl.classList.add('colab-df-quickchart-complete');\n",
              "    }\n",
              "    (() => {\n",
              "      let quickchartButtonEl =\n",
              "        document.querySelector('#df-7246cd02-fe5b-44a8-92c5-f62705260e24 button');\n",
              "      quickchartButtonEl.style.display =\n",
              "        google.colab.kernel.accessAllowed ? 'block' : 'none';\n",
              "    })();\n",
              "  </script>\n",
              "</div>\n",
              "\n",
              "    </div>\n",
              "  </div>\n"
            ]
          },
          "metadata": {},
          "execution_count": 4
        }
      ],
      "source": [
        "# 주문 가격\n",
        "df[\"TotalPrice\"] = df[\"Quantity\"] * df[\"UnitPrice\"]\n",
        "df.head()"
      ]
    },
    {
      "cell_type": "code",
      "execution_count": 5,
      "id": "5f288c34",
      "metadata": {
        "id": "5f288c34",
        "colab": {
          "base_uri": "https://localhost:8080/"
        },
        "outputId": "d8a7e560-a934-4f30-f286-841e55800c5a"
      },
      "outputs": [
        {
          "output_type": "stream",
          "name": "stdout",
          "text": [
            "<class 'pandas.core.frame.DataFrame'>\n",
            "RangeIndex: 541909 entries, 0 to 541908\n",
            "Data columns (total 9 columns):\n",
            " #   Column       Non-Null Count   Dtype   \n",
            "---  ------       --------------   -----   \n",
            " 0   InvoiceNo    541909 non-null  category\n",
            " 1   StockCode    541909 non-null  category\n",
            " 2   Description  540455 non-null  category\n",
            " 3   Quantity     541909 non-null  int32   \n",
            " 4   InvoiceDate  541909 non-null  category\n",
            " 5   UnitPrice    541909 non-null  float64 \n",
            " 6   CustomerID   406829 non-null  float32 \n",
            " 7   Country      541909 non-null  category\n",
            " 8   TotalPrice   541909 non-null  float64 \n",
            "dtypes: category(5), float32(1), float64(2), int32(1)\n",
            "memory usage: 19.3 MB\n"
          ]
        }
      ],
      "source": [
        "df.info()"
      ]
    },
    {
      "cell_type": "markdown",
      "id": "1a4839d1",
      "metadata": {
        "id": "1a4839d1"
      },
      "source": [
        "## 미션 1) 모집단과 표본 추출을 하고 TotalPrice에 대해 비교해 주세요.\n",
        "데이터셋에서 무작위로 1000개의 표본을 추출하고, 추출된 표본과 전체 데이터셋의 'TotalPrice'에 대해 평균과 표준편차를 비교하세요. 이를 통해 모집단과 표본의 차이를 설명하고, 중심극한정리가 어떻게 적용되는지 설명하세요.\n",
        "\n",
        "* pandas 의 sample 을 활용할 수 있으며, pandas 의 기술 통계 기능을 활용해 볼 수 있습니다.\n",
        "* 참고 : 슬라이드에서 중심극한정리를 찾아보세요."
      ]
    },
    {
      "cell_type": "code",
      "execution_count": 6,
      "id": "433bcfd1",
      "metadata": {
        "id": "433bcfd1",
        "colab": {
          "base_uri": "https://localhost:8080/"
        },
        "outputId": "4e2ab779-6097-4ef9-89be-91a49b7e6968"
      },
      "outputs": [
        {
          "output_type": "execute_result",
          "data": {
            "text/plain": [
              "count    541909.000000\n",
              "mean         17.987795\n",
              "std         378.810824\n",
              "min     -168469.600000\n",
              "25%           3.400000\n",
              "50%           9.750000\n",
              "75%          17.400000\n",
              "max      168469.600000\n",
              "Name: TotalPrice, dtype: float64"
            ]
          },
          "metadata": {},
          "execution_count": 6
        }
      ],
      "source": [
        "df['TotalPrice'].describe()"
      ]
    },
    {
      "cell_type": "code",
      "source": [
        "sample = df.sample(1000)\n",
        "sample['TotalPrice'].describe()"
      ],
      "metadata": {
        "colab": {
          "base_uri": "https://localhost:8080/"
        },
        "id": "aAjaSfr5KX-K",
        "outputId": "e0c3271a-ca79-432d-ff01-996eba8ad669"
      },
      "id": "aAjaSfr5KX-K",
      "execution_count": 8,
      "outputs": [
        {
          "output_type": "execute_result",
          "data": {
            "text/plain": [
              "count    1000.000000\n",
              "mean       17.847720\n",
              "std        47.151512\n",
              "min       -23.800000\n",
              "25%         3.290000\n",
              "50%         8.500000\n",
              "75%        17.340000\n",
              "max      1048.950000\n",
              "Name: TotalPrice, dtype: float64"
            ]
          },
          "metadata": {},
          "execution_count": 8
        }
      ]
    },
    {
      "cell_type": "markdown",
      "source": [
        "# 미션1 답변\n",
        "### 모집단과 표본의 차이\n",
        "- 모집단\n",
        "  - mean         17.987795\n",
        "  - std         378.810824\n",
        "- 표본\n",
        "  - mean       17.847720\n",
        "  - std        47.151512\n",
        "- 평균은 비슷하지만 표준편차는 차이가 큽니다. 모집단에 비해 샘플 사이즈가 1/542로 작기 때문이라고 볼 수 있습니다. 포함된 아웃라이어 차이도 있을 수 있습니다\n",
        "### 중심극한정리\n",
        "- 모집단의 분포와 상관 없이, 모집단에서 추출한 샘플의 크기가 충분히 크다면 이 샘플들의 평균은 정규 분포를 띤다는 말입니다. 이 정리를 통해 모집단의 평균을 추정할 수 있습니다."
      ],
      "metadata": {
        "id": "gkHvRV9RNTCP"
      },
      "id": "gkHvRV9RNTCP"
    },
    {
      "cell_type": "markdown",
      "id": "771d0d54",
      "metadata": {
        "id": "771d0d54"
      },
      "source": [
        "## 미션2) 'Country' 변수를 바탕으로 가장 빈도가 높은 두 개의 국가를 선택하고, 각 국가의 'TotalPrice' 평균에 차이가 있는지 검증하세요. 독립표본 t-검정을 사용하여 가설을 설정하고 검정하며, 1종 오류와 2종 오류에 대해 설명하세요.\n",
        "\n",
        "\n",
        "* 미션 진행 방법\n",
        "    <br>1) 데이터 로드 후 'TotalPrice'와 'Country' 컬럼을 찾아주세요.\n",
        "    <br>2) 데이터셋에서 주문이 가장 많은 상위 두 국가를 찾아주세요.\n",
        "    <br>3) 통계적 검증 수행하기\n",
        "    <br>4) 각 국가의 'TotalPrice' 평균을 계산하세요.\n",
        "    <br>5) 독립표본 t-검정을 사용하여 두 국가 간 'TotalPrice' 평균의 차이가 통계적으로 유의미한지 검증하세요. 이 때, scipy.stats 라이브러리의 ttest_ind 함수를 사용할 수 있습니다. equal_var=False 파라미터를 설정하여 두 집단의 분산이 다르다고 가정하세요.\n",
        "    <br>6) t-통계량과 p-값을 해석하여 결과를 설명하세요. 1종 오류와 2종 오류의 개념을 설명하고, 해당 데이터셋에 적용하여 설명해 주세요."
      ]
    },
    {
      "cell_type": "code",
      "execution_count": 18,
      "id": "c1dd5c1e",
      "metadata": {
        "id": "c1dd5c1e",
        "colab": {
          "base_uri": "https://localhost:8080/"
        },
        "outputId": "90b04b76-8acb-43c7-aa7b-41771f90b4e8"
      },
      "outputs": [
        {
          "output_type": "execute_result",
          "data": {
            "text/plain": [
              "Country\n",
              "United Kingdom    495478\n",
              "Germany             9495\n",
              "Name: TotalPrice, dtype: int64"
            ]
          },
          "metadata": {},
          "execution_count": 18
        }
      ],
      "source": [
        "from scipy import stats\n",
        "df.groupby('Country')['TotalPrice'].count().sort_values(ascending=False).head(2)"
      ]
    },
    {
      "cell_type": "code",
      "source": [
        "uk = df[df['Country'] == 'United Kingdom']['TotalPrice']\n",
        "gmy = df[df['Country'] == 'Germany']['TotalPrice']\n",
        "\n",
        "\n",
        "print('UK: ' , uk.mean() ,  '\\nGermany: ', gmy.mean())"
      ],
      "metadata": {
        "colab": {
          "base_uri": "https://localhost:8080/"
        },
        "id": "HJua80Z_QkaS",
        "outputId": "34784212-1fd0-45c9-8951-2e7eb6ebbae8"
      },
      "id": "HJua80Z_QkaS",
      "execution_count": 36,
      "outputs": [
        {
          "output_type": "stream",
          "name": "stdout",
          "text": [
            "UK:  16.525065419655366 \n",
            "Germany:  23.348942601369142\n"
          ]
        }
      ]
    },
    {
      "cell_type": "code",
      "source": [
        "t_statistic, p_value = stats.ttest_ind(uk, gmy, equal_var=False)\n",
        "t_statistic, p_value"
      ],
      "metadata": {
        "colab": {
          "base_uri": "https://localhost:8080/"
        },
        "id": "Bak43ejGTFMX",
        "outputId": "17c8a42f-6778-4ac5-b6dd-13a952417906"
      },
      "id": "Bak43ejGTFMX",
      "execution_count": 28,
      "outputs": [
        {
          "output_type": "execute_result",
          "data": {
            "text/plain": [
              "(-10.046360185819829, 9.823416115791871e-24)"
            ]
          },
          "metadata": {},
          "execution_count": 28
        }
      ]
    },
    {
      "cell_type": "markdown",
      "source": [
        "# 미션2 답변\n",
        "- 두 집단간 TotalPrice 의 차이는 통계적으로 유의미합니다\n",
        "- p_value : 9.82*10^-24 로, 0에 가까운 값입니다\n",
        "- t_statistic 은 집단 간 분산의 차이를 나타냅니다. t_statistic 이 높다면 해당 집단 내 분산보다 비교 집단 간 분산이 높습니다. p_value 는 해당 null hypothesis 가 참이라고 할 때, 주어진 t_statistc 과 같거나 더 극단적인 케이스를 마주할 확률입니다. 여기서 p_value 가 무척 낮기때문에, 해당 t_statistic 도 무척 극단적인 값이라고 할 수 있습니다. 즉, 귀무 가설은 거짓입니다.\n",
        "- Type1 Error: H1 가 거짓인데 참이라고 할 확률\n",
        "- Type2 Error: H1 가 참인데 거짓이라고 할 확률\n",
        "- 여기서 Type1 Error 는 두 국가의 TotalPrice 가 같은데 같지 않다고 할 확률입니다."
      ],
      "metadata": {
        "id": "-qF6YQZqSp6o"
      },
      "id": "-qF6YQZqSp6o"
    },
    {
      "cell_type": "markdown",
      "id": "d05d88d5",
      "metadata": {
        "id": "d05d88d5"
      },
      "source": [
        "## 미션 3) 주중, 주말에 따른 기술통계와 분위수 분석\n",
        "\n",
        "'UnitPrice'의 분포를 분석하기 위해 상자수염그림과 히스토그램을 그리세요. 데이터의 분위수, 중심경향치(평균, 중간값), 변산성(표준편차, 분산)을 계산하고, 이들이 데이터 분포에 대해 설명해 주세요. 다음의 주어진 코드를 활용해 주세요.\n",
        "\n",
        "\n",
        "```python\n",
        "# 'InvoiceDate' 컬럼을 이용하여 주중과 주말을 구분\n",
        "df['InvoiceDate'] = pd.to_datetime(df['InvoiceDate'])\n",
        "df['DayOfWeek'] = df['InvoiceDate'].dt.dayofweek\n",
        "\n",
        "\n",
        "df.loc[df['DayOfWeek'] <= 4, \"WeekEnd\"] = \"주중\"\n",
        "df.loc[df['DayOfWeek'] > 4, \"WeekEnd\"] = \"주말\"\n",
        "\n",
        "# 주중(월요일=0, 화요일=1, ..., 금요일=4)과 주말(토요일=5, 일요일=6)으로 데이터를 분리\n",
        "weekday_data = df[df['DayOfWeek'] <= 4]  # 주중\n",
        "weekend_data = df[df['DayOfWeek'] > 4]   # 주말\n",
        "```\n",
        "\n",
        "* 참고 : [pandas.DataFrame.describe — pandas documentation](https://pandas.pydata.org/docs/reference/api/pandas.DataFrame.describe.html)\n",
        "* 참고 : 슬라이드의 \"기술 통계\" 부분을 찾아보세요."
      ]
    },
    {
      "cell_type": "code",
      "source": [
        "weekday_data['UnitPrice'].describe()"
      ],
      "metadata": {
        "colab": {
          "base_uri": "https://localhost:8080/"
        },
        "id": "bflzkm9GYdGu",
        "outputId": "a99e79f8-1a72-43c1-990b-a91c37ae83d6"
      },
      "id": "bflzkm9GYdGu",
      "execution_count": 43,
      "outputs": [
        {
          "output_type": "execute_result",
          "data": {
            "text/plain": [
              "count    477534.000000\n",
              "mean          4.843425\n",
              "std         103.032058\n",
              "min      -11062.060000\n",
              "25%           1.250000\n",
              "50%           2.100000\n",
              "75%           4.130000\n",
              "max       38970.000000\n",
              "Name: UnitPrice, dtype: float64"
            ]
          },
          "metadata": {},
          "execution_count": 43
        }
      ]
    },
    {
      "cell_type": "code",
      "source": [
        "weekend_data['UnitPrice'].describe()"
      ],
      "metadata": {
        "colab": {
          "base_uri": "https://localhost:8080/"
        },
        "id": "7noL5S75YkNP",
        "outputId": "0cda75b1-a590-48e4-a056-f0d3a4595ad4"
      },
      "id": "7noL5S75YkNP",
      "execution_count": 44,
      "outputs": [
        {
          "output_type": "execute_result",
          "data": {
            "text/plain": [
              "count    64375.000000\n",
              "mean         2.887824\n",
              "std          7.959497\n",
              "min          0.000000\n",
              "25%          1.250000\n",
              "50%          1.850000\n",
              "75%          3.750000\n",
              "max       1236.750000\n",
              "Name: UnitPrice, dtype: float64"
            ]
          },
          "metadata": {},
          "execution_count": 44
        }
      ]
    },
    {
      "cell_type": "code",
      "execution_count": 37,
      "id": "e365a76e",
      "metadata": {
        "id": "e365a76e"
      },
      "outputs": [],
      "source": [
        "# 'InvoiceDate' 컬럼을 이용하여 주중과 주말을 구분\n",
        "df['InvoiceDate'] = pd.to_datetime(df['InvoiceDate'])\n",
        "df['DayOfWeek'] = df['InvoiceDate'].dt.dayofweek\n",
        "\n",
        "\n",
        "df.loc[df['DayOfWeek'] <= 4, \"WeekEnd\"] = \"주중\"\n",
        "df.loc[df['DayOfWeek'] > 4, \"WeekEnd\"] = \"주말\"\n",
        "\n",
        "# 주중(월요일=0, 화요일=1, ..., 금요일=4)과 주말(토요일=5, 일요일=6)으로 데이터를 분리\n",
        "weekday_data = df[df['DayOfWeek'] <= 4]  # 주중\n",
        "weekend_data = df[df['DayOfWeek'] > 4]   # 주말"
      ]
    },
    {
      "cell_type": "code",
      "execution_count": 50,
      "id": "b67acaaa",
      "metadata": {
        "id": "b67acaaa",
        "colab": {
          "base_uri": "https://localhost:8080/",
          "height": 330
        },
        "outputId": "a380ed49-49d2-4bfb-83cb-109f0dfec3ea"
      },
      "outputs": [
        {
          "output_type": "display_data",
          "data": {
            "text/plain": [
              "<Figure size 800x300 with 2 Axes>"
            ],
            "image/png": "[encoded data removed]"
          },
          "metadata": {
            "image/png": {
              "width": 652,
              "height": 313
            }
          }
        }
      ],
      "source": [
        "fig, ax = plt.subplots(1, 2, figsize=(8, 3))\n",
        "sns.boxplot(data=weekday_data, x='UnitPrice', ax=ax[0])\n",
        "ax[0].set_title('Weekday Data')\n",
        "\n",
        "sns.boxplot(data=weekend_data, x=\"UnitPrice\", ax=ax[1])\n",
        "ax[1].set_title('Weekend Data');"
      ]
    },
    {
      "cell_type": "code",
      "source": [
        "print(weekday_data['UnitPrice'].dtype)\n",
        "print(weekend_data['UnitPrice'].dtype)"
      ],
      "metadata": {
        "colab": {
          "base_uri": "https://localhost:8080/"
        },
        "id": "udn5jNC_cQ6-",
        "outputId": "21ffbbfd-cbf6-4dfc-a314-1cda3b4d67f6"
      },
      "id": "udn5jNC_cQ6-",
      "execution_count": 54,
      "outputs": [
        {
          "output_type": "stream",
          "name": "stdout",
          "text": [
            "float64\n",
            "float64\n"
          ]
        }
      ]
    },
    {
      "cell_type": "code",
      "execution_count": 63,
      "id": "29071bf7",
      "metadata": {
        "id": "29071bf7",
        "colab": {
          "base_uri": "https://localhost:8080/",
          "height": 362
        },
        "outputId": "f585ef0e-a25c-4f07-ba62-6abd5a2e7792"
      },
      "outputs": [
        {
          "output_type": "stream",
          "name": "stderr",
          "text": [
            "<ipython-input-63-5a7d9e038c58>:14: UserWarning: FixedFormatter should only be used together with FixedLocator\n",
            "  ax[0].set_xticklabels(ax[0].get_xticklabels(), rotation=90)\n"
          ]
        },
        {
          "output_type": "display_data",
          "data": {
            "text/plain": [
              "<Figure size 800x300 with 2 Axes>"
            ],
            "image/png": "[encoded data removed]"
          },
          "metadata": {
            "image/png": {
              "width": 790,
              "height": 289
            }
          }
        }
      ],
      "source": [
        "# histplot 은 생성에 시간이 너무 오래 걸리기도 하고 아웃라이어도 있어 binning 을 합니다\n",
        "#binning 이 안되서 dropna 합니다\n",
        "weekday_data = weekday_data.dropna(subset=['UnitPrice'])\n",
        "weekend_data = weekend_data.dropna(subset=['UnitPrice'])\n",
        "\n",
        "\n",
        "weekday_data['PriceBin'] = pd.qcut(weekday_data['UnitPrice'], 20, duplicates='drop')\n",
        "weekend_data['PriceBin'] = pd.qcut(weekend_data['UnitPrice'], 20, duplicates='drop')\n",
        "\n",
        "# categorical 은 histplot 이 안되서 countplot 으로 바꿔줍니다\n",
        "fig, ax = plt.subplots(1, 2, figsize=(8, 3))\n",
        "sns.countplot(data=weekday_data, x='PriceBin', ax=ax[0])\n",
        "ax[0].set_title('Weekday Data')\n",
        "ax[0].set_xticklabels(ax[0].get_xticklabels(), rotation=90)\n",
        "\n",
        "sns.countplot(data=weekend_data, x=\"PriceBin\", ax=ax[1])\n",
        "ax[1].set_title('Weekend Data')\n",
        "plt.xticks(rotation=90)\n",
        "\n",
        "plt.tight_layout();"
      ]
    },
    {
      "cell_type": "markdown",
      "source": [
        "# 미션 3 답변\n",
        "- 유닛 프라이스 데이터에 아웃라이어 영향이 커서 전체 분포가 잘 보이지 않습니다.\n",
        "- 특히 주중의 음수 값은 제거해줘야 할 것으로 보입니다\n",
        "- 아웃라이어 영향을 줄이기 위해 binning 을 했더니 categorical data 가 되어 histplot 이 아니라 countplot 을 그렸습니다\n",
        "- 데이터의 분포가 균등하지 않습니다"
      ],
      "metadata": {
        "id": "TZ00cKwSab4c"
      },
      "id": "TZ00cKwSab4c"
    },
    {
      "cell_type": "markdown",
      "id": "2f63e2de",
      "metadata": {
        "id": "2f63e2de"
      },
      "source": [
        "## 미션4)  'TotalPrice'의 중간값이 특정 값과 다른지 검증하기 위해 비모수 검정 (예: 맨-휘트니 U-검정)을 사용하세요. 검증 결과에 대해 비즈니스 관점에서 분석해 주세요.\n",
        "\n",
        "* 비모수 검정은 데이터가 정규 분포를 따르지 않거나, 정규 분포에 대한 가정을 할 수 없을 때 사용됩니다. 특히, 작은 표본 크기, 이상치의 존재, 순위나 순서와 같은 비정량적 데이터에 적합합니다. 또한, 두 그룹 간의 중앙값이나 분포의 형태가 다를 때 비모수 검정을 사용할 수 있습니다.\n",
        "\n",
        "* 맨-휘트니 U-검정은 두 독립적인 표본 간에 중앙값의 차이를 비교하는 데 사용됩니다. 이 검정은 두 그룹의 데이터가 서로 독립적이며, 최소한 서열 척도로 측정되어야 합니다. 데이터의 분포 형태에 대한 가정이 필요 없으며, 크기가 다른 두 표본에 대해서도 사용할 수 있습니다. 이 검정은 데이터의 중앙값이 특정 값과 다른지 여부를 검증하는 데 유용합니다.\n",
        "\n",
        "다음의 주어진 코드를 활용해 주세요.\n",
        "\n",
        "```python\n",
        "from scipy.stats import mannwhitneyu\n",
        "# 'TotalPrice' 컬럼을 생성합니다. 이는 'Quantity'와 'UnitPrice'의 곱으로 정의됩니다.\n",
        "df['TotalPrice'] = df['Quantity'] * df['UnitPrice']\n",
        "```\n",
        "\n",
        "* 참고 : https://www.ibm.com/docs/ko/spss-statistics/beta?topic=tests-mann-whitney-u-test"
      ]
    },
    {
      "cell_type": "code",
      "execution_count": 68,
      "id": "87a7c568",
      "metadata": {
        "id": "87a7c568"
      },
      "outputs": [],
      "source": [
        "from scipy.stats import mannwhitneyu\n",
        "\n",
        "# 'TotalPrice' 컬럼을 생성합니다. 이는 'Quantity'와 'UnitPrice'의 곱으로 정의됩니다.\n",
        "df['TotalPrice'] = df['Quantity'] * df['UnitPrice']"
      ]
    },
    {
      "cell_type": "code",
      "source": [
        "df.groupby('Country')['TotalPrice'].sum().sort_values(ascending=False).head(5)"
      ],
      "metadata": {
        "colab": {
          "base_uri": "https://localhost:8080/"
        },
        "id": "4umh63wii8Ff",
        "outputId": "9e6f87ba-621b-4ab0-db3a-d29dd22e45e6"
      },
      "id": "4umh63wii8Ff",
      "execution_count": 71,
      "outputs": [
        {
          "output_type": "execute_result",
          "data": {
            "text/plain": [
              "Country\n",
              "United Kingdom    8187806.364\n",
              "Netherlands        284661.540\n",
              "EIRE               263276.820\n",
              "Germany            221698.210\n",
              "France             197403.900\n",
              "Name: TotalPrice, dtype: float64"
            ]
          },
          "metadata": {},
          "execution_count": 71
        }
      ]
    },
    {
      "cell_type": "code",
      "source": [],
      "metadata": {
        "id": "oCvSoKLkjMLM"
      },
      "id": "oCvSoKLkjMLM",
      "execution_count": 73,
      "outputs": []
    },
    {
      "cell_type": "code",
      "execution_count": 80,
      "id": "af80439b",
      "metadata": {
        "id": "af80439b",
        "colab": {
          "base_uri": "https://localhost:8080/"
        },
        "outputId": "927f3e42-502c-4b1a-b941-224f6228990d"
      },
      "outputs": [
        {
          "output_type": "execute_result",
          "data": {
            "text/plain": [
              "(147295757.0, 0.0)"
            ]
          },
          "metadata": {},
          "execution_count": 80
        }
      ],
      "source": [
        "uk_tp = df[df['Country'] == 'United Kingdom']['TotalPrice']\n",
        "nth_tp = df[df['Country'] == 'Netherlands']['TotalPrice']\n",
        "\n",
        "U1, p = mannwhitneyu(uk_tp, nth_tp)\n",
        "U1, p"
      ]
    },
    {
      "cell_type": "markdown",
      "source": [
        "# 미션4 답변\n",
        "- 문제에서 말하는 '특정 값' 이 무엇인지 알 수 없어, 임의로 두 국가 간 TotalPrice 에 대해 비모수 검정을 하겠습니다\n",
        "- 해당 국가 둘은 TotalPrice 상위 2개국 입니다\n",
        "- U1, p : (147295757.0, 0.0)\n",
        "- p 값이 0이기 때문에, 두 국가의 TotalPrice 사이에는 유의미한 차이가 있다고 할 수 있습니다\n"
      ],
      "metadata": {
        "id": "t9Xi2J4RigAo"
      },
      "id": "t9Xi2J4RigAo"
    },
    {
      "cell_type": "markdown",
      "id": "2e9df6ec",
      "metadata": {
        "id": "2e9df6ec"
      },
      "source": [
        "## 미션5) UnitPrice 컬럼에 대한 95% 신뢰구간을 구하고  seaborn 으로 신뢰구간을 시각화 해주세요. 그리고 이 신뢰구간이 비즈니스 결정에 어떻게 활용될 수 있는지 설명하세요."
      ]
    },
    {
      "cell_type": "code",
      "execution_count": 81,
      "id": "380e6a99",
      "metadata": {
        "id": "380e6a99"
      },
      "outputs": [],
      "source": [
        "from scipy import stats\n",
        "stats.t.interval?\n",
        "# stats.t.interval(confidence, *args, **kwds)"
      ]
    },
    {
      "cell_type": "code",
      "execution_count": 84,
      "id": "e008a91c",
      "metadata": {
        "id": "e008a91c",
        "colab": {
          "base_uri": "https://localhost:8080/"
        },
        "outputId": "514d2606-18da-44ae-e38d-3e4dfdeb7103"
      },
      "outputs": [
        {
          "output_type": "execute_result",
          "data": {
            "text/plain": [
              "(4.353492734282087, 4.868734517894939)"
            ]
          },
          "metadata": {},
          "execution_count": 84
        }
      ],
      "source": [
        "mean = df['UnitPrice'].mean()\n",
        "sem = stats.sem(df['UnitPrice'])\n",
        "\n",
        "stats.t.interval(0.95, len(df['UnitPrice'].dropna())-1, loc=mean, scale=sem)"
      ]
    },
    {
      "cell_type": "code",
      "execution_count": 83,
      "id": "2d675894",
      "metadata": {
        "id": "2d675894",
        "colab": {
          "base_uri": "https://localhost:8080/",
          "height": 432
        },
        "outputId": "244da15b-9f44-4558-ec3f-fff59c303ca7"
      },
      "outputs": [
        {
          "output_type": "execute_result",
          "data": {
            "text/plain": [
              "<Axes: ylabel='UnitPrice'>"
            ]
          },
          "metadata": {},
          "execution_count": 83
        },
        {
          "output_type": "display_data",
          "data": {
            "text/plain": [
              "<Figure size 640x480 with 1 Axes>"
            ],
            "image/png": "[encoded data removed]"
          },
          "metadata": {
            "image/png": {
              "width": 552,
              "height": 397
            }
          }
        }
      ],
      "source": [
        "sns.barplot(data=df, y='UnitPrice', errorbar='ci')"
      ]
    },
    {
      "cell_type": "markdown",
      "source": [
        "# 미션5 답변\n",
        "- Unit Price 는 95%의 확률로 (4.353492734282087, 4.868734517894939) 범위 안에 있습니다\n",
        "- 결제가 이루어진 아이템들의 UnitPrice 에 대한 신뢰구간은 가격 설정이나 마켓 포지셔닝 시 참고할 기준 가격에 대한 지표가 될 수 있습니다."
      ],
      "metadata": {
        "id": "UIJVhyNcndNf"
      },
      "id": "UIJVhyNcndNf"
    },
    {
      "cell_type": "code",
      "execution_count": null,
      "id": "c197515b",
      "metadata": {
        "id": "c197515b"
      },
      "outputs": [],
      "source": []
    },
    {
      "cell_type": "code",
      "execution_count": null,
      "id": "7e2f0836",
      "metadata": {
        "id": "7e2f0836"
      },
      "outputs": [],
      "source": []
    },
    {
      "cell_type": "code",
      "execution_count": null,
      "id": "f179d70e",
      "metadata": {
        "id": "f179d70e"
      },
      "outputs": [],
      "source": []
    },
    {
      "cell_type": "code",
      "execution_count": null,
      "id": "7c402495",
      "metadata": {
        "id": "7c402495"
      },
      "outputs": [],
      "source": []
    },
    {
      "cell_type": "code",
      "execution_count": null,
      "id": "234a9388",
      "metadata": {
        "id": "234a9388"
      },
      "outputs": [],
      "source": []
    },
    {
      "cell_type": "code",
      "execution_count": null,
      "id": "ef075887",
      "metadata": {
        "id": "ef075887"
      },
      "outputs": [],
      "source": []
    },
    {
      "cell_type": "code",
      "execution_count": null,
      "id": "60aafc28",
      "metadata": {
        "id": "60aafc28"
      },
      "outputs": [],
      "source": []
    }
  ],
  "metadata": {
    "kernelspec": {
      "display_name": "Python 3 (ipykernel)",
      "language": "python",
      "name": "python3"
    },
    "language_info": {
      "codemirror_mode": {
        "name": "ipython",
        "version": 3
      },
      "file_extension": ".py",
      "mimetype": "text/x-python",
      "name": "python",
      "nbconvert_exporter": "python",
      "pygments_lexer": "ipython3",
      "version": "3.11.4"
    },
    "toc": {
      "base_numbering": 1,
      "nav_menu": {},
      "number_sections": false,
      "sideBar": true,
      "skip_h1_title": false,
      "title_cell": "Table of Contents",
      "title_sidebar": "Contents",
      "toc_cell": false,
      "toc_position": {},
      "toc_section_display": true,
      "toc_window_display": true
    },
    "varInspector": {
      "cols": {
        "lenName": 16,
        "lenType": 16,
        "lenVar": 40
      },
      "kernels_config": {
        "python": {
          "delete_cmd_postfix": "",
          "delete_cmd_prefix": "del ",
          "library": "var_list.py",
          "varRefreshCmd": "print(var_dic_list())"
        },
        "r": {
          "delete_cmd_postfix": ") ",
          "delete_cmd_prefix": "rm(",
          "library": "var_list.r",
          "varRefreshCmd": "cat(var_dic_list()) "
        }
      },
      "types_to_exclude": [
        "module",
        "function",
        "builtin_function_or_method",
        "instance",
        "_Feature"
      ],
      "window_display": false
    },
    "colab": {
      "provenance": []
    }
  },
  "nbformat": 4,
  "nbformat_minor": 5
}